{
 "cells": [
  {
   "cell_type": "code",
   "execution_count": 1,
   "metadata": {},
   "outputs": [
    {
     "data": {
      "text/plain": [
       "<mysql.connector.cursor_cext.CMySQLCursor at 0x20cb097fd90>"
      ]
     },
     "execution_count": 1,
     "metadata": {},
     "output_type": "execute_result"
    }
   ],
   "source": [
    "# Importar librerias\n",
    "\n",
    "import mysql.connector as conn\n",
    "import pandas as pd\n",
    "\n",
    "# Crear la conexion\n",
    "\n",
    "conexion = conn.connect(host='localhost',user='root',passwd='password')\n",
    "\n",
    "cursor = conexion.cursor()\n",
    "\n",
    "cursor"
   ]
  },
  {
   "cell_type": "code",
   "execution_count": 2,
   "metadata": {},
   "outputs": [],
   "source": [
    "# crear una base de datos \"tour_de_france_23\" si no existe\n",
    "\n",
    "cursor.execute('CREATE DATABASE IF NOT EXISTS tour_de_france_23')"
   ]
  },
  {
   "cell_type": "code",
   "execution_count": 3,
   "metadata": {},
   "outputs": [],
   "source": [
    "# Conectar a la base de datos \"blockbuster\"\n",
    "\n",
    "conexion1 = conn.connect(host='localhost',user='root',passwd='password',database='tour_de_france_23')\n",
    "\n",
    "cursor1 = conexion1.cursor()\n",
    "\n",
    "c = cursor1.execute"
   ]
  },
  {
   "cell_type": "code",
   "execution_count": null,
   "metadata": {},
   "outputs": [],
   "source": [
    "actor = pd.read_csv(\"C:/Users/luiso/IRONHACK/Blockbuster_Project_2/data/actor_clean.csv\")\n",
    "\n",
    "for index, row in actor.iterrows():\n",
    "    actor_id = row['actor_id']\n",
    "    first_name = row['first_name']\n",
    "    last_name = row['last_name']\n",
    "    last_update = row['last_update']\n",
    "\n",
    "    # Consulta SQL para insertar un actor en la tabla \"actor\"\n",
    "    consulta = f\"INSERT INTO actor (actor_id, first_name, last_name, last_update) VALUES ({actor_id}, '{first_name}', '{last_name}', '{last_update}')\"\n",
    "\n",
    "    # Ejecutar la consulta\n",
    "    c(consulta)\n",
    "\n",
    "\n",
    "# Hacer commit para guardar los cambios en la base de datos\n",
    "conexion1.commit()"
   ]
  }
 ],
 "metadata": {
  "kernelspec": {
   "display_name": "base",
   "language": "python",
   "name": "python3"
  },
  "language_info": {
   "codemirror_mode": {
    "name": "ipython",
    "version": 3
   },
   "file_extension": ".py",
   "mimetype": "text/x-python",
   "name": "python",
   "nbconvert_exporter": "python",
   "pygments_lexer": "ipython3",
   "version": "3.10.9"
  }
 },
 "nbformat": 4,
 "nbformat_minor": 2
}
