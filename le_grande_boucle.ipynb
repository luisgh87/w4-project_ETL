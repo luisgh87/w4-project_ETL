{
 "cells": [
  {
   "cell_type": "code",
   "execution_count": 1,
   "metadata": {},
   "outputs": [
    {
     "name": "stdout",
     "output_type": "stream",
     "text": [
      "Collecting procyclingstats\n",
      "  Downloading procyclingstats-0.1.7.tar.gz (25 kB)\n",
      "  Preparing metadata (setup.py): started\n",
      "  Preparing metadata (setup.py): finished with status 'done'\n",
      "Requirement already satisfied: requests in c:\\users\\luiso\\anaconda3\\lib\\site-packages (from procyclingstats) (2.28.1)\n",
      "Collecting selectolax\n",
      "  Downloading selectolax-0.3.17-cp310-cp310-win_amd64.whl (2.2 MB)\n",
      "     ---------------------------------------- 2.2/2.2 MB 3.0 MB/s eta 0:00:00\n",
      "Requirement already satisfied: charset-normalizer<3,>=2 in c:\\users\\luiso\\anaconda3\\lib\\site-packages (from requests->procyclingstats) (2.0.4)\n",
      "Requirement already satisfied: urllib3<1.27,>=1.21.1 in c:\\users\\luiso\\anaconda3\\lib\\site-packages (from requests->procyclingstats) (1.26.14)\n",
      "Requirement already satisfied: idna<4,>=2.5 in c:\\users\\luiso\\anaconda3\\lib\\site-packages (from requests->procyclingstats) (3.4)\n",
      "Requirement already satisfied: certifi>=2017.4.17 in c:\\users\\luiso\\anaconda3\\lib\\site-packages (from requests->procyclingstats) (2023.7.22)\n",
      "Building wheels for collected packages: procyclingstats\n",
      "  Building wheel for procyclingstats (setup.py): started\n",
      "  Building wheel for procyclingstats (setup.py): finished with status 'done'\n",
      "  Created wheel for procyclingstats: filename=procyclingstats-0.1.7-py3-none-any.whl size=32232 sha256=256bfb2e41e39521394d9390281312a838294ebf9e3fa51e9852fc0ee98ee4da\n",
      "  Stored in directory: c:\\users\\luiso\\appdata\\local\\pip\\cache\\wheels\\c5\\f7\\77\\86377da05f32e9b896528c4d28c28c8d5621459af7285c6cf8\n",
      "Successfully built procyclingstats\n",
      "Installing collected packages: selectolax, procyclingstats\n",
      "Successfully installed procyclingstats-0.1.7 selectolax-0.3.17\n",
      "Note: you may need to restart the kernel to use updated packages.\n"
     ]
    }
   ],
   "source": [
    "pip install procyclingstats"
   ]
  },
  {
   "cell_type": "code",
   "execution_count": 1,
   "metadata": {},
   "outputs": [],
   "source": [
    "from procyclingstats import Rider\n",
    "from procyclingstats import Race\n",
    "from procyclingstats import Team\n",
    "from procyclingstats import RaceStartlist\n",
    "import requests\n",
    "from bs4 import BeautifulSoup\n",
    "import pandas as pd\n",
    "import dtale\n",
    "# from pprint import pprint\n",
    "# from lxml import html\n",
    "# from lxml.html import fromstring\n",
    "# import urllib.request\n",
    "# from urllib.request import urlopen\n",
    "# import random\n",
    "# import re\n",
    "# import scrapy"
   ]
  },
  {
   "cell_type": "code",
   "execution_count": 2,
   "metadata": {},
   "outputs": [],
   "source": [
    "import pandas as pd\n",
    "from selenium.webdriver.chrome.options import Options\n",
    "from webdriver_manager.chrome import ChromeDriverManager\n",
    "import time\n",
    "\n",
    "import warnings\n",
    "warnings.filterwarnings('ignore')\n",
    "\n",
    "import parsel\n",
    "\n",
    "from selenium.webdriver.common.by import By"
   ]
  },
  {
   "cell_type": "code",
   "execution_count": 3,
   "metadata": {},
   "outputs": [],
   "source": [
    "#driver configuration\n",
    "opciones=Options()\n",
    "\n",
    "opciones.add_experimental_option('excludeSwitches', ['enable-automation'])\n",
    "opciones.add_experimental_option('useAutomationExtension', False)\n",
    "opciones.headless=False    # si True, no aperece la ventana (headless=no visible)\n",
    "opciones.add_argument('--start-maximized')         # comienza maximizado\n",
    "#opciones.add_argument('user-data-dir=selenium')    # mantiene las cookies\n",
    "#opciones.add_extension('driver_folder/adblock.crx')       # adblocker\n",
    "opciones.add_argument('--incognito')"
   ]
  },
  {
   "cell_type": "code",
   "execution_count": 22,
   "metadata": {},
   "outputs": [],
   "source": [
    "from selenium import webdriver\n",
    "\n",
    "from webdriver_manager.chrome import ChromeDriverManager\n",
    "#PATH = ChromeDriverManager().install()\n",
    "driver = webdriver.Chrome(options = opciones)\n",
    "driver.get('https://www.google.es')"
   ]
  },
  {
   "cell_type": "code",
   "execution_count": 23,
   "metadata": {},
   "outputs": [
    {
     "ename": "NoSuchWindowException",
     "evalue": "Message: no such window: target window already closed\nfrom unknown error: web view not found\n  (Session info: chrome=118.0.5993.118)\nStacktrace:\n\tGetHandleVerifier [0x00007FF7682D8EF2+54786]\n\t(No symbol) [0x00007FF768245612]\n\t(No symbol) [0x00007FF7680FA64B]\n\t(No symbol) [0x00007FF7680DA9F5]\n\t(No symbol) [0x00007FF768160887]\n\t(No symbol) [0x00007FF7681743CF]\n\t(No symbol) [0x00007FF76815BC43]\n\t(No symbol) [0x00007FF768130941]\n\t(No symbol) [0x00007FF768131B84]\n\tGetHandleVerifier [0x00007FF768627F52+3524194]\n\tGetHandleVerifier [0x00007FF76867D800+3874576]\n\tGetHandleVerifier [0x00007FF768675D7F+3843215]\n\tGetHandleVerifier [0x00007FF768375086+694166]\n\t(No symbol) [0x00007FF768250A88]\n\t(No symbol) [0x00007FF76824CA94]\n\t(No symbol) [0x00007FF76824CBC2]\n\t(No symbol) [0x00007FF76823CC83]\n\tBaseThreadInitThunk [0x00007FFF5819257D+29]\n\tRtlUserThreadStart [0x00007FFF583AAA58+40]\n",
     "output_type": "error",
     "traceback": [
      "\u001b[1;31m---------------------------------------------------------------------------\u001b[0m",
      "\u001b[1;31mNoSuchWindowException\u001b[0m                     Traceback (most recent call last)",
      "\u001b[1;32mc:\\Users\\luiso\\IRONHACK\\w4-project_ETL\\le_grande_boucle.ipynb Cell 6\u001b[0m line \u001b[0;36m6\n\u001b[0;32m      <a href='vscode-notebook-cell:/c%3A/Users/luiso/IRONHACK/w4-project_ETL/le_grande_boucle.ipynb#W2sZmlsZQ%3D%3D?line=3'>4</a>\u001b[0m \u001b[39mfor\u001b[39;00m etapa \u001b[39min\u001b[39;00m \u001b[39mrange\u001b[39m(\u001b[39m1\u001b[39m, \u001b[39m25\u001b[39m):\n\u001b[0;32m      <a href='vscode-notebook-cell:/c%3A/Users/luiso/IRONHACK/w4-project_ETL/le_grande_boucle.ipynb#W2sZmlsZQ%3D%3D?line=4'>5</a>\u001b[0m     url \u001b[39m=\u001b[39m \u001b[39mf\u001b[39m\u001b[39m\"\u001b[39m\u001b[39m{\u001b[39;00mbase_url\u001b[39m}\u001b[39;00m\u001b[39m{\u001b[39;00metapa\u001b[39m}\u001b[39;00m\u001b[39m\"\u001b[39m\n\u001b[1;32m----> <a href='vscode-notebook-cell:/c%3A/Users/luiso/IRONHACK/w4-project_ETL/le_grande_boucle.ipynb#W2sZmlsZQ%3D%3D?line=5'>6</a>\u001b[0m     driver\u001b[39m.\u001b[39;49mget(url)\n",
      "File \u001b[1;32mc:\\Users\\luiso\\anaconda3\\lib\\site-packages\\selenium\\webdriver\\remote\\webdriver.py:353\u001b[0m, in \u001b[0;36mWebDriver.get\u001b[1;34m(self, url)\u001b[0m\n\u001b[0;32m    351\u001b[0m \u001b[39mdef\u001b[39;00m \u001b[39mget\u001b[39m(\u001b[39mself\u001b[39m, url: \u001b[39mstr\u001b[39m) \u001b[39m-\u001b[39m\u001b[39m>\u001b[39m \u001b[39mNone\u001b[39;00m:\n\u001b[0;32m    352\u001b[0m     \u001b[39m\"\"\"Loads a web page in the current browser session.\"\"\"\u001b[39;00m\n\u001b[1;32m--> 353\u001b[0m     \u001b[39mself\u001b[39;49m\u001b[39m.\u001b[39;49mexecute(Command\u001b[39m.\u001b[39;49mGET, {\u001b[39m\"\u001b[39;49m\u001b[39murl\u001b[39;49m\u001b[39m\"\u001b[39;49m: url})\n",
      "File \u001b[1;32mc:\\Users\\luiso\\anaconda3\\lib\\site-packages\\selenium\\webdriver\\remote\\webdriver.py:344\u001b[0m, in \u001b[0;36mWebDriver.execute\u001b[1;34m(self, driver_command, params)\u001b[0m\n\u001b[0;32m    342\u001b[0m response \u001b[39m=\u001b[39m \u001b[39mself\u001b[39m\u001b[39m.\u001b[39mcommand_executor\u001b[39m.\u001b[39mexecute(driver_command, params)\n\u001b[0;32m    343\u001b[0m \u001b[39mif\u001b[39;00m response:\n\u001b[1;32m--> 344\u001b[0m     \u001b[39mself\u001b[39;49m\u001b[39m.\u001b[39;49merror_handler\u001b[39m.\u001b[39;49mcheck_response(response)\n\u001b[0;32m    345\u001b[0m     response[\u001b[39m\"\u001b[39m\u001b[39mvalue\u001b[39m\u001b[39m\"\u001b[39m] \u001b[39m=\u001b[39m \u001b[39mself\u001b[39m\u001b[39m.\u001b[39m_unwrap_value(response\u001b[39m.\u001b[39mget(\u001b[39m\"\u001b[39m\u001b[39mvalue\u001b[39m\u001b[39m\"\u001b[39m, \u001b[39mNone\u001b[39;00m))\n\u001b[0;32m    346\u001b[0m     \u001b[39mreturn\u001b[39;00m response\n",
      "File \u001b[1;32mc:\\Users\\luiso\\anaconda3\\lib\\site-packages\\selenium\\webdriver\\remote\\errorhandler.py:229\u001b[0m, in \u001b[0;36mErrorHandler.check_response\u001b[1;34m(self, response)\u001b[0m\n\u001b[0;32m    227\u001b[0m         alert_text \u001b[39m=\u001b[39m value[\u001b[39m\"\u001b[39m\u001b[39malert\u001b[39m\u001b[39m\"\u001b[39m]\u001b[39m.\u001b[39mget(\u001b[39m\"\u001b[39m\u001b[39mtext\u001b[39m\u001b[39m\"\u001b[39m)\n\u001b[0;32m    228\u001b[0m     \u001b[39mraise\u001b[39;00m exception_class(message, screen, stacktrace, alert_text)  \u001b[39m# type: ignore[call-arg]  # mypy is not smart enough here\u001b[39;00m\n\u001b[1;32m--> 229\u001b[0m \u001b[39mraise\u001b[39;00m exception_class(message, screen, stacktrace)\n",
      "\u001b[1;31mNoSuchWindowException\u001b[0m: Message: no such window: target window already closed\nfrom unknown error: web view not found\n  (Session info: chrome=118.0.5993.118)\nStacktrace:\n\tGetHandleVerifier [0x00007FF7682D8EF2+54786]\n\t(No symbol) [0x00007FF768245612]\n\t(No symbol) [0x00007FF7680FA64B]\n\t(No symbol) [0x00007FF7680DA9F5]\n\t(No symbol) [0x00007FF768160887]\n\t(No symbol) [0x00007FF7681743CF]\n\t(No symbol) [0x00007FF76815BC43]\n\t(No symbol) [0x00007FF768130941]\n\t(No symbol) [0x00007FF768131B84]\n\tGetHandleVerifier [0x00007FF768627F52+3524194]\n\tGetHandleVerifier [0x00007FF76867D800+3874576]\n\tGetHandleVerifier [0x00007FF768675D7F+3843215]\n\tGetHandleVerifier [0x00007FF768375086+694166]\n\t(No symbol) [0x00007FF768250A88]\n\t(No symbol) [0x00007FF76824CA94]\n\t(No symbol) [0x00007FF76824CBC2]\n\t(No symbol) [0x00007FF76823CC83]\n\tBaseThreadInitThunk [0x00007FFF5819257D+29]\n\tRtlUserThreadStart [0x00007FFF583AAA58+40]\n"
     ]
    }
   ],
   "source": [
    "base_url = \"https://www.letour.fr/es/clasificaciones/etapa-1\"\n",
    "\n",
    "\n",
    "for etapa in range(1, 25):\n",
    "    url = f\"{base_url}{etapa}\"\n",
    "    driver.get(url)\n",
    "\n",
    "\n",
    "    \n",
    "   \n"
   ]
  },
  {
   "cell_type": "code",
   "execution_count": null,
   "metadata": {},
   "outputs": [],
   "source": []
  },
  {
   "cell_type": "code",
   "execution_count": null,
   "metadata": {},
   "outputs": [],
   "source": []
  },
  {
   "cell_type": "code",
   "execution_count": null,
   "metadata": {},
   "outputs": [],
   "source": []
  },
  {
   "cell_type": "code",
   "execution_count": 6,
   "metadata": {},
   "outputs": [
    {
     "name": "stdout",
     "output_type": "stream",
     "text": [
      "<bound method Rider.name of Rider(url='https://www.procyclingstats.com/rider/tadej-pogacar')>\n"
     ]
    }
   ],
   "source": [
    "rider = Rider(\"rider/tadej-pogacar\")\n",
    "\n",
    "print(rider.name)"
   ]
  },
  {
   "cell_type": "code",
   "execution_count": 15,
   "metadata": {},
   "outputs": [
    {
     "data": {
      "text/plain": [
       "'1998-9-21'"
      ]
     },
     "execution_count": 15,
     "metadata": {},
     "output_type": "execute_result"
    }
   ],
   "source": [
    "rider.birthdate()\n",
    "\n"
   ]
  },
  {
   "cell_type": "code",
   "execution_count": 26,
   "metadata": {},
   "outputs": [
    {
     "data": {
      "text/html": [
       "\n",
       "        <iframe\n",
       "            width=\"100%\"\n",
       "            height=\"475\"\n",
       "            src=\"http://DESKTOP-6AAQE5G:40000/dtale/iframe/1\"\n",
       "            frameborder=\"0\"\n",
       "            allowfullscreen\n",
       "            \n",
       "        ></iframe>\n",
       "        "
      ],
      "text/plain": [
       "<IPython.lib.display.IFrame at 0x23a359dd900>"
      ]
     },
     "metadata": {},
     "output_type": "display_data"
    },
    {
     "data": {
      "text/plain": []
     },
     "execution_count": 26,
     "metadata": {},
     "output_type": "execute_result"
    }
   ],
   "source": [
    "pogacar = rider.parse()\n",
    "\n",
    "pogacar.keys()\n",
    "\n",
    "# crear nombre de las columnas con las keys\n",
    "\n",
    "pogacar_df = pd.DataFrame.from_dict(pogacar, orient='index')\n",
    "\n",
    "pogacar_df = pogacar_df.transpose()\n",
    "\n",
    "pogacar_df\n",
    "\n",
    "dtale.show(pogacar_df)\n",
    "\n"
   ]
  },
  {
   "cell_type": "code",
   "execution_count": 34,
   "metadata": {},
   "outputs": [
    {
     "data": {
      "text/html": [
       "\n",
       "        <iframe\n",
       "            width=\"100%\"\n",
       "            height=\"475\"\n",
       "            src=\"http://DESKTOP-6AAQE5G:40000/dtale/iframe/2\"\n",
       "            frameborder=\"0\"\n",
       "            allowfullscreen\n",
       "            \n",
       "        ></iframe>\n",
       "        "
      ],
      "text/plain": [
       "<IPython.lib.display.IFrame at 0x23a35dd58a0>"
      ]
     },
     "metadata": {},
     "output_type": "display_data"
    },
    {
     "data": {
      "text/plain": []
     },
     "execution_count": 34,
     "metadata": {},
     "output_type": "execute_result"
    }
   ],
   "source": [
    "# quiero ver la vuelta a españa\n",
    "\n",
    "race = Race(\"race/tour-de-france/2023\")\n",
    "\n",
    "tour_de_france = race.parse()\n",
    "\n",
    "# Crear un dataframe con los datos de tour de france\n",
    "\n",
    "tour_de_france_df = pd.DataFrame.from_dict(tour_de_france, orient='index')\n",
    "\n",
    "tour_de_france_df = tour_de_france_df.transpose()\n",
    "\n",
    "tour_de_france_df\n",
    "\n",
    "dtale.show(tour_de_france_df)\n",
    "\n"
   ]
  },
  {
   "cell_type": "code",
   "execution_count": 49,
   "metadata": {},
   "outputs": [
    {
     "data": {
      "text/html": [
       "<div>\n",
       "<style scoped>\n",
       "    .dataframe tbody tr th:only-of-type {\n",
       "        vertical-align: middle;\n",
       "    }\n",
       "\n",
       "    .dataframe tbody tr th {\n",
       "        vertical-align: top;\n",
       "    }\n",
       "\n",
       "    .dataframe thead th {\n",
       "        text-align: right;\n",
       "    }\n",
       "</style>\n",
       "<table border=\"1\" class=\"dataframe\">\n",
       "  <thead>\n",
       "    <tr style=\"text-align: right;\">\n",
       "      <th></th>\n",
       "      <th>rider_name</th>\n",
       "      <th>rider_url</th>\n",
       "      <th>nationality</th>\n",
       "      <th>rider_number</th>\n",
       "      <th>team_name</th>\n",
       "      <th>team_url</th>\n",
       "    </tr>\n",
       "  </thead>\n",
       "  <tbody>\n",
       "    <tr>\n",
       "      <th>0</th>\n",
       "      <td>VINGEGAARD Jonas</td>\n",
       "      <td>rider/jonas-vingegaard-rasmussen</td>\n",
       "      <td>DK</td>\n",
       "      <td>1</td>\n",
       "      <td>Jumbo-Visma (WT)</td>\n",
       "      <td>team/team-jumbo-visma-2023</td>\n",
       "    </tr>\n",
       "    <tr>\n",
       "      <th>1</th>\n",
       "      <td>BENOOT Tiesj</td>\n",
       "      <td>rider/tiesj-benoot</td>\n",
       "      <td>BE</td>\n",
       "      <td>2</td>\n",
       "      <td>Jumbo-Visma (WT)</td>\n",
       "      <td>team/team-jumbo-visma-2023</td>\n",
       "    </tr>\n",
       "    <tr>\n",
       "      <th>2</th>\n",
       "      <td>KELDERMAN Wilco</td>\n",
       "      <td>rider/wilco-kelderman</td>\n",
       "      <td>NL</td>\n",
       "      <td>3</td>\n",
       "      <td>Jumbo-Visma (WT)</td>\n",
       "      <td>team/team-jumbo-visma-2023</td>\n",
       "    </tr>\n",
       "    <tr>\n",
       "      <th>3</th>\n",
       "      <td>KUSS Sepp</td>\n",
       "      <td>rider/sepp-kuss</td>\n",
       "      <td>US</td>\n",
       "      <td>4</td>\n",
       "      <td>Jumbo-Visma (WT)</td>\n",
       "      <td>team/team-jumbo-visma-2023</td>\n",
       "    </tr>\n",
       "    <tr>\n",
       "      <th>4</th>\n",
       "      <td>LAPORTE Christophe</td>\n",
       "      <td>rider/christophe-laporte</td>\n",
       "      <td>FR</td>\n",
       "      <td>5</td>\n",
       "      <td>Jumbo-Visma (WT)</td>\n",
       "      <td>team/team-jumbo-visma-2023</td>\n",
       "    </tr>\n",
       "    <tr>\n",
       "      <th>...</th>\n",
       "      <td>...</td>\n",
       "      <td>...</td>\n",
       "      <td>...</td>\n",
       "      <td>...</td>\n",
       "      <td>...</td>\n",
       "      <td>...</td>\n",
       "    </tr>\n",
       "    <tr>\n",
       "      <th>171</th>\n",
       "      <td>CRAS Steff</td>\n",
       "      <td>rider/steff-cras</td>\n",
       "      <td>BE</td>\n",
       "      <td>214</td>\n",
       "      <td>TotalEnergies (PRT)</td>\n",
       "      <td>team/team-totalenergies-2023</td>\n",
       "    </tr>\n",
       "    <tr>\n",
       "      <th>172</th>\n",
       "      <td>FERRON Valentin</td>\n",
       "      <td>rider/valentin-ferron</td>\n",
       "      <td>FR</td>\n",
       "      <td>215</td>\n",
       "      <td>TotalEnergies (PRT)</td>\n",
       "      <td>team/team-totalenergies-2023</td>\n",
       "    </tr>\n",
       "    <tr>\n",
       "      <th>173</th>\n",
       "      <td>LATOUR Pierre</td>\n",
       "      <td>rider/pierre-latour</td>\n",
       "      <td>FR</td>\n",
       "      <td>216</td>\n",
       "      <td>TotalEnergies (PRT)</td>\n",
       "      <td>team/team-totalenergies-2023</td>\n",
       "    </tr>\n",
       "    <tr>\n",
       "      <th>174</th>\n",
       "      <td>OSS Daniel</td>\n",
       "      <td>rider/daniel-oss</td>\n",
       "      <td>IT</td>\n",
       "      <td>217</td>\n",
       "      <td>TotalEnergies (PRT)</td>\n",
       "      <td>team/team-totalenergies-2023</td>\n",
       "    </tr>\n",
       "    <tr>\n",
       "      <th>175</th>\n",
       "      <td>TURGIS Anthony</td>\n",
       "      <td>rider/anthony-turgis</td>\n",
       "      <td>FR</td>\n",
       "      <td>218</td>\n",
       "      <td>TotalEnergies (PRT)</td>\n",
       "      <td>team/team-totalenergies-2023</td>\n",
       "    </tr>\n",
       "  </tbody>\n",
       "</table>\n",
       "<p>176 rows × 6 columns</p>\n",
       "</div>"
      ],
      "text/plain": [
       "             rider_name                         rider_url nationality  \\\n",
       "0      VINGEGAARD Jonas  rider/jonas-vingegaard-rasmussen          DK   \n",
       "1          BENOOT Tiesj                rider/tiesj-benoot          BE   \n",
       "2       KELDERMAN Wilco             rider/wilco-kelderman          NL   \n",
       "3             KUSS Sepp                   rider/sepp-kuss          US   \n",
       "4    LAPORTE Christophe          rider/christophe-laporte          FR   \n",
       "..                  ...                               ...         ...   \n",
       "171          CRAS Steff                  rider/steff-cras          BE   \n",
       "172     FERRON Valentin             rider/valentin-ferron          FR   \n",
       "173       LATOUR Pierre               rider/pierre-latour          FR   \n",
       "174          OSS Daniel                  rider/daniel-oss          IT   \n",
       "175      TURGIS Anthony              rider/anthony-turgis          FR   \n",
       "\n",
       "     rider_number            team_name                      team_url  \n",
       "0               1     Jumbo-Visma (WT)    team/team-jumbo-visma-2023  \n",
       "1               2     Jumbo-Visma (WT)    team/team-jumbo-visma-2023  \n",
       "2               3     Jumbo-Visma (WT)    team/team-jumbo-visma-2023  \n",
       "3               4     Jumbo-Visma (WT)    team/team-jumbo-visma-2023  \n",
       "4               5     Jumbo-Visma (WT)    team/team-jumbo-visma-2023  \n",
       "..            ...                  ...                           ...  \n",
       "171           214  TotalEnergies (PRT)  team/team-totalenergies-2023  \n",
       "172           215  TotalEnergies (PRT)  team/team-totalenergies-2023  \n",
       "173           216  TotalEnergies (PRT)  team/team-totalenergies-2023  \n",
       "174           217  TotalEnergies (PRT)  team/team-totalenergies-2023  \n",
       "175           218  TotalEnergies (PRT)  team/team-totalenergies-2023  \n",
       "\n",
       "[176 rows x 6 columns]"
      ]
     },
     "execution_count": 49,
     "metadata": {},
     "output_type": "execute_result"
    }
   ],
   "source": [
    "race_startlist = RaceStartlist(\"race/tour-de-france/2023/startlist\")\n",
    "tour_de_france = race_startlist.startlist()\n",
    "\n",
    "# Crear un dataframe con los datos de tour de france\n",
    "\n",
    "tour_de_france_df = pd.DataFrame(tour_de_france)\n",
    "\n",
    "tour_de_france_df\n",
    "\n",
    "\n",
    "\n",
    "\n",
    "\n",
    "\n",
    "\n"
   ]
  },
  {
   "cell_type": "code",
   "execution_count": 50,
   "metadata": {},
   "outputs": [],
   "source": [
    "# Exportar a csv los datos de tour de france\n",
    "\n",
    "tour_de_france_df.to_csv('tour_de_france.csv', index=False)\n",
    "\n",
    "\n"
   ]
  }
 ],
 "metadata": {
  "kernelspec": {
   "display_name": "base",
   "language": "python",
   "name": "python3"
  },
  "language_info": {
   "codemirror_mode": {
    "name": "ipython",
    "version": 3
   },
   "file_extension": ".py",
   "mimetype": "text/x-python",
   "name": "python",
   "nbconvert_exporter": "python",
   "pygments_lexer": "ipython3",
   "version": "3.10.9"
  }
 },
 "nbformat": 4,
 "nbformat_minor": 2
}
