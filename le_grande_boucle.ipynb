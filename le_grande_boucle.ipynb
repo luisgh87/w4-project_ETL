{
 "cells": [
  {
   "cell_type": "code",
   "execution_count": 130,
   "metadata": {},
   "outputs": [
    {
     "name": "stdout",
     "output_type": "stream",
     "text": [
      "Requirement already satisfied: procyclingstats in c:\\users\\luiso\\anaconda3\\lib\\site-packages (0.1.7)Note: you may need to restart the kernel to use updated packages.\n",
      "\n",
      "Requirement already satisfied: requests in c:\\users\\luiso\\anaconda3\\lib\\site-packages (from procyclingstats) (2.28.1)\n",
      "Requirement already satisfied: selectolax in c:\\users\\luiso\\anaconda3\\lib\\site-packages (from procyclingstats) (0.3.17)\n",
      "Requirement already satisfied: idna<4,>=2.5 in c:\\users\\luiso\\anaconda3\\lib\\site-packages (from requests->procyclingstats) (3.4)\n",
      "Requirement already satisfied: certifi>=2017.4.17 in c:\\users\\luiso\\anaconda3\\lib\\site-packages (from requests->procyclingstats) (2023.7.22)\n",
      "Requirement already satisfied: charset-normalizer<3,>=2 in c:\\users\\luiso\\anaconda3\\lib\\site-packages (from requests->procyclingstats) (2.0.4)\n",
      "Requirement already satisfied: urllib3<1.27,>=1.21.1 in c:\\users\\luiso\\anaconda3\\lib\\site-packages (from requests->procyclingstats) (1.26.14)\n"
     ]
    }
   ],
   "source": [
    "pip install procyclingstats"
   ]
  },
  {
   "cell_type": "code",
   "execution_count": 218,
   "metadata": {},
   "outputs": [],
   "source": [
    "from procyclingstats import Rider\n",
    "from procyclingstats import Race\n",
    "from procyclingstats import Team\n",
    "from procyclingstats import RaceStartlist\n",
    "import requests\n",
    "from bs4 import BeautifulSoup\n",
    "import pandas as pd\n",
    "import dtale\n",
    "# from pprint import pprint\n",
    "# from lxml import html\n",
    "# from lxml.html import fromstring\n",
    "# import urllib.request\n",
    "# from urllib.request import urlopen\n",
    "# import random\n",
    "# import re\n",
    "# import scrapy"
   ]
  },
  {
   "cell_type": "code",
   "execution_count": 222,
   "metadata": {},
   "outputs": [
    {
     "data": {
      "text/plain": [
       "176"
      ]
     },
     "execution_count": 222,
     "metadata": {},
     "output_type": "execute_result"
    }
   ],
   "source": [
    "race_startlist = RaceStartlist(\"race/tour-de-france/2023/startlist\")\n",
    "tour_de_france = race_startlist.startlist()\n",
    "\n",
    "len(tour_de_france)\n",
    "\n"
   ]
  },
  {
   "cell_type": "code",
   "execution_count": null,
   "metadata": {},
   "outputs": [],
   "source": [
    "# Crear un dataframe con los datos de tour de france\n",
    "\n",
    "tour_de_france_df = pd.DataFrame(tour_de_france)\n",
    "\n",
    "tour_de_france_df\n",
    "\n",
    "# Exportar a csv los datos de tour de france\n",
    "\n",
    "tour_de_france_df.to_csv('tour_de_france.csv', index=False)\n"
   ]
  },
  {
   "cell_type": "code",
   "execution_count": 192,
   "metadata": {},
   "outputs": [
    {
     "data": {
      "text/plain": [
       "\"TEAM JAYCO ALULA 04h 22' 53'' + 00h 00' 04'' B : 6'' -\""
      ]
     },
     "execution_count": 192,
     "metadata": {},
     "output_type": "execute_result"
    }
   ],
   "source": [
    "cuerpo_n[5]"
   ]
  },
  {
   "cell_type": "code",
   "execution_count": 191,
   "metadata": {},
   "outputs": [
    {
     "name": "stdout",
     "output_type": "stream",
     "text": [
      "TEAM JAYCO ALULA 04h 22' 53'' + 00h 00' 04'' B : 6'' -\n",
      "UAE TEAM EMIRATES 04h 23' 01'' + 00h 00' 12'' B : 4'' -\n"
     ]
    }
   ],
   "source": [
    "for i in range(2, len(cuerpo_n),3):\n",
    "    if len(cuerpo_n[i].split()) == 14:\n",
    "        print(cuerpo_n[i])\n",
    "    elif len(cuerpo_n[i]) == 4:\n",
    "        pass\n",
    "        #print(cuerpo_n[i])\n",
    "    elif len(cuerpo_n[i]) == 5:\n",
    "        pass\n",
    "\n",
    "        #print(cuerpo_n[i])\n",
    "    else:\n",
    "        #print(cuerpo_n[i])\n",
    "        pass\n",
    "\n",
    "        #print((cuerpo_n[i].split()[:3]))\n"
   ]
  },
  {
   "cell_type": "code",
   "execution_count": 163,
   "metadata": {},
   "outputs": [
    {
     "data": {
      "text/plain": [
       "\"UAE TEAM EMIRATES 04h 22' 49'' - B : 10'' -\""
      ]
     },
     "execution_count": 163,
     "metadata": {},
     "output_type": "execute_result"
    }
   ],
   "source": [
    "cuerpo = tabla.find_element(By.TAG_NAME, 'tbody')\n",
    "\n",
    "cuerpo.text\n",
    "\n",
    "cuerpo_n = cuerpo.text.split('\\n')\n",
    "\n",
    "cuerpo_n[2]\n",
    "\n"
   ]
  },
  {
   "cell_type": "code",
   "execution_count": 143,
   "metadata": {},
   "outputs": [
    {
     "data": {
      "text/plain": [
       "[['1',\n",
       "  '  A. YATES',\n",
       "  \"UAE TEAM EMIRATES 04h 22' 49'' - B : 10'' -\",\n",
       "  '2',\n",
       "  '  S. YATES',\n",
       "  \"TEAM JAYCO ALULA 04h 22' 53'' + 00h 00' 04'' B : 6'' -\",\n",
       "  '3'],\n",
       " ['  T. POGAČAR',\n",
       "  \"UAE TEAM EMIRATES 04h 23' 01'' + 00h 00' 12'' B : 4'' -\",\n",
       "  '4',\n",
       "  '  T. PINOT',\n",
       "  \"GROUPAMA - FDJ 04h 23' 01'' + 00h 00' 12'' - -\",\n",
       "  '5',\n",
       "  '  M. WOODS'],\n",
       " [\"ISRAEL - PREMIER TECH 04h 23' 01'' + 00h 00' 12'' - -\",\n",
       "  '6',\n",
       "  '  V. LAFAY',\n",
       "  \"COFIDIS 04h 23' 01'' + 00h 00' 12'' - -\",\n",
       "  '7',\n",
       "  '  J. HINDLEY',\n",
       "  \"BORA - HANSGROHE 04h 23' 01'' + 00h 00' 12'' - -\"],\n",
       " ['8',\n",
       "  '  S. JENSEN',\n",
       "  \"LIDL - TREK 04h 23' 01'' + 00h 00' 12'' - -\",\n",
       "  '9',\n",
       "  '  J. VINGEGAARD',\n",
       "  \"JUMBO-VISMA 04h 23' 01'' + 00h 00' 12'' - -\",\n",
       "  '10'],\n",
       " ['  D. GAUDU', \"GROUPAMA - FDJ 04h 23' 01'' + 00h 00' 12'' - -\"]]"
      ]
     },
     "execution_count": 143,
     "metadata": {},
     "output_type": "execute_result"
    }
   ],
   "source": [
    "# separar el dato de filas para que quede en 7 columnas\n",
    "\n",
    "filas_separadas = [filas[i:i+7] for i in range(0, len(filas), 7)]\n",
    "\n",
    "filas_separadas\n",
    "\n",
    "# \n",
    "\n"
   ]
  },
  {
   "cell_type": "code",
   "execution_count": 144,
   "metadata": {},
   "outputs": [
    {
     "data": {
      "text/plain": [
       "[<selenium.webdriver.remote.webelement.WebElement (session=\"be6d7a41e73f222b7468f736a654a475\", element=\"4C848728F6E2AEA138960F3E0C70BE41_element_250\")>,\n",
       " <selenium.webdriver.remote.webelement.WebElement (session=\"be6d7a41e73f222b7468f736a654a475\", element=\"4C848728F6E2AEA138960F3E0C70BE41_element_251\")>,\n",
       " <selenium.webdriver.remote.webelement.WebElement (session=\"be6d7a41e73f222b7468f736a654a475\", element=\"4C848728F6E2AEA138960F3E0C70BE41_element_252\")>,\n",
       " <selenium.webdriver.remote.webelement.WebElement (session=\"be6d7a41e73f222b7468f736a654a475\", element=\"4C848728F6E2AEA138960F3E0C70BE41_element_253\")>,\n",
       " <selenium.webdriver.remote.webelement.WebElement (session=\"be6d7a41e73f222b7468f736a654a475\", element=\"4C848728F6E2AEA138960F3E0C70BE41_element_254\")>,\n",
       " <selenium.webdriver.remote.webelement.WebElement (session=\"be6d7a41e73f222b7468f736a654a475\", element=\"4C848728F6E2AEA138960F3E0C70BE41_element_255\")>,\n",
       " <selenium.webdriver.remote.webelement.WebElement (session=\"be6d7a41e73f222b7468f736a654a475\", element=\"4C848728F6E2AEA138960F3E0C70BE41_element_256\")>,\n",
       " <selenium.webdriver.remote.webelement.WebElement (session=\"be6d7a41e73f222b7468f736a654a475\", element=\"4C848728F6E2AEA138960F3E0C70BE41_element_257\")>,\n",
       " <selenium.webdriver.remote.webelement.WebElement (session=\"be6d7a41e73f222b7468f736a654a475\", element=\"4C848728F6E2AEA138960F3E0C70BE41_element_258\")>,\n",
       " <selenium.webdriver.remote.webelement.WebElement (session=\"be6d7a41e73f222b7468f736a654a475\", element=\"4C848728F6E2AEA138960F3E0C70BE41_element_259\")>,\n",
       " <selenium.webdriver.remote.webelement.WebElement (session=\"be6d7a41e73f222b7468f736a654a475\", element=\"4C848728F6E2AEA138960F3E0C70BE41_element_260\")>,\n",
       " <selenium.webdriver.remote.webelement.WebElement (session=\"be6d7a41e73f222b7468f736a654a475\", element=\"4C848728F6E2AEA138960F3E0C70BE41_element_261\")>,\n",
       " <selenium.webdriver.remote.webelement.WebElement (session=\"be6d7a41e73f222b7468f736a654a475\", element=\"4C848728F6E2AEA138960F3E0C70BE41_element_262\")>,\n",
       " <selenium.webdriver.remote.webelement.WebElement (session=\"be6d7a41e73f222b7468f736a654a475\", element=\"4C848728F6E2AEA138960F3E0C70BE41_element_263\")>,\n",
       " <selenium.webdriver.remote.webelement.WebElement (session=\"be6d7a41e73f222b7468f736a654a475\", element=\"4C848728F6E2AEA138960F3E0C70BE41_element_264\")>,\n",
       " <selenium.webdriver.remote.webelement.WebElement (session=\"be6d7a41e73f222b7468f736a654a475\", element=\"4C848728F6E2AEA138960F3E0C70BE41_element_265\")>,\n",
       " <selenium.webdriver.remote.webelement.WebElement (session=\"be6d7a41e73f222b7468f736a654a475\", element=\"4C848728F6E2AEA138960F3E0C70BE41_element_266\")>,\n",
       " <selenium.webdriver.remote.webelement.WebElement (session=\"be6d7a41e73f222b7468f736a654a475\", element=\"4C848728F6E2AEA138960F3E0C70BE41_element_267\")>,\n",
       " <selenium.webdriver.remote.webelement.WebElement (session=\"be6d7a41e73f222b7468f736a654a475\", element=\"4C848728F6E2AEA138960F3E0C70BE41_element_268\")>,\n",
       " <selenium.webdriver.remote.webelement.WebElement (session=\"be6d7a41e73f222b7468f736a654a475\", element=\"4C848728F6E2AEA138960F3E0C70BE41_element_269\")>,\n",
       " <selenium.webdriver.remote.webelement.WebElement (session=\"be6d7a41e73f222b7468f736a654a475\", element=\"4C848728F6E2AEA138960F3E0C70BE41_element_270\")>,\n",
       " <selenium.webdriver.remote.webelement.WebElement (session=\"be6d7a41e73f222b7468f736a654a475\", element=\"4C848728F6E2AEA138960F3E0C70BE41_element_271\")>,\n",
       " <selenium.webdriver.remote.webelement.WebElement (session=\"be6d7a41e73f222b7468f736a654a475\", element=\"4C848728F6E2AEA138960F3E0C70BE41_element_272\")>,\n",
       " <selenium.webdriver.remote.webelement.WebElement (session=\"be6d7a41e73f222b7468f736a654a475\", element=\"4C848728F6E2AEA138960F3E0C70BE41_element_273\")>,\n",
       " <selenium.webdriver.remote.webelement.WebElement (session=\"be6d7a41e73f222b7468f736a654a475\", element=\"4C848728F6E2AEA138960F3E0C70BE41_element_274\")>,\n",
       " <selenium.webdriver.remote.webelement.WebElement (session=\"be6d7a41e73f222b7468f736a654a475\", element=\"4C848728F6E2AEA138960F3E0C70BE41_element_275\")>,\n",
       " <selenium.webdriver.remote.webelement.WebElement (session=\"be6d7a41e73f222b7468f736a654a475\", element=\"4C848728F6E2AEA138960F3E0C70BE41_element_276\")>,\n",
       " <selenium.webdriver.remote.webelement.WebElement (session=\"be6d7a41e73f222b7468f736a654a475\", element=\"4C848728F6E2AEA138960F3E0C70BE41_element_277\")>,\n",
       " <selenium.webdriver.remote.webelement.WebElement (session=\"be6d7a41e73f222b7468f736a654a475\", element=\"4C848728F6E2AEA138960F3E0C70BE41_element_278\")>,\n",
       " <selenium.webdriver.remote.webelement.WebElement (session=\"be6d7a41e73f222b7468f736a654a475\", element=\"4C848728F6E2AEA138960F3E0C70BE41_element_279\")>,\n",
       " <selenium.webdriver.remote.webelement.WebElement (session=\"be6d7a41e73f222b7468f736a654a475\", element=\"4C848728F6E2AEA138960F3E0C70BE41_element_280\")>,\n",
       " <selenium.webdriver.remote.webelement.WebElement (session=\"be6d7a41e73f222b7468f736a654a475\", element=\"4C848728F6E2AEA138960F3E0C70BE41_element_281\")>,\n",
       " <selenium.webdriver.remote.webelement.WebElement (session=\"be6d7a41e73f222b7468f736a654a475\", element=\"4C848728F6E2AEA138960F3E0C70BE41_element_282\")>,\n",
       " <selenium.webdriver.remote.webelement.WebElement (session=\"be6d7a41e73f222b7468f736a654a475\", element=\"4C848728F6E2AEA138960F3E0C70BE41_element_283\")>,\n",
       " <selenium.webdriver.remote.webelement.WebElement (session=\"be6d7a41e73f222b7468f736a654a475\", element=\"4C848728F6E2AEA138960F3E0C70BE41_element_284\")>,\n",
       " <selenium.webdriver.remote.webelement.WebElement (session=\"be6d7a41e73f222b7468f736a654a475\", element=\"4C848728F6E2AEA138960F3E0C70BE41_element_285\")>,\n",
       " <selenium.webdriver.remote.webelement.WebElement (session=\"be6d7a41e73f222b7468f736a654a475\", element=\"4C848728F6E2AEA138960F3E0C70BE41_element_286\")>,\n",
       " <selenium.webdriver.remote.webelement.WebElement (session=\"be6d7a41e73f222b7468f736a654a475\", element=\"4C848728F6E2AEA138960F3E0C70BE41_element_287\")>,\n",
       " <selenium.webdriver.remote.webelement.WebElement (session=\"be6d7a41e73f222b7468f736a654a475\", element=\"4C848728F6E2AEA138960F3E0C70BE41_element_288\")>,\n",
       " <selenium.webdriver.remote.webelement.WebElement (session=\"be6d7a41e73f222b7468f736a654a475\", element=\"4C848728F6E2AEA138960F3E0C70BE41_element_289\")>,\n",
       " <selenium.webdriver.remote.webelement.WebElement (session=\"be6d7a41e73f222b7468f736a654a475\", element=\"4C848728F6E2AEA138960F3E0C70BE41_element_290\")>,\n",
       " <selenium.webdriver.remote.webelement.WebElement (session=\"be6d7a41e73f222b7468f736a654a475\", element=\"4C848728F6E2AEA138960F3E0C70BE41_element_291\")>,\n",
       " <selenium.webdriver.remote.webelement.WebElement (session=\"be6d7a41e73f222b7468f736a654a475\", element=\"4C848728F6E2AEA138960F3E0C70BE41_element_292\")>,\n",
       " <selenium.webdriver.remote.webelement.WebElement (session=\"be6d7a41e73f222b7468f736a654a475\", element=\"4C848728F6E2AEA138960F3E0C70BE41_element_293\")>,\n",
       " <selenium.webdriver.remote.webelement.WebElement (session=\"be6d7a41e73f222b7468f736a654a475\", element=\"4C848728F6E2AEA138960F3E0C70BE41_element_294\")>,\n",
       " <selenium.webdriver.remote.webelement.WebElement (session=\"be6d7a41e73f222b7468f736a654a475\", element=\"4C848728F6E2AEA138960F3E0C70BE41_element_295\")>,\n",
       " <selenium.webdriver.remote.webelement.WebElement (session=\"be6d7a41e73f222b7468f736a654a475\", element=\"4C848728F6E2AEA138960F3E0C70BE41_element_296\")>,\n",
       " <selenium.webdriver.remote.webelement.WebElement (session=\"be6d7a41e73f222b7468f736a654a475\", element=\"4C848728F6E2AEA138960F3E0C70BE41_element_297\")>,\n",
       " <selenium.webdriver.remote.webelement.WebElement (session=\"be6d7a41e73f222b7468f736a654a475\", element=\"4C848728F6E2AEA138960F3E0C70BE41_element_298\")>,\n",
       " <selenium.webdriver.remote.webelement.WebElement (session=\"be6d7a41e73f222b7468f736a654a475\", element=\"4C848728F6E2AEA138960F3E0C70BE41_element_299\")>,\n",
       " <selenium.webdriver.remote.webelement.WebElement (session=\"be6d7a41e73f222b7468f736a654a475\", element=\"4C848728F6E2AEA138960F3E0C70BE41_element_300\")>,\n",
       " <selenium.webdriver.remote.webelement.WebElement (session=\"be6d7a41e73f222b7468f736a654a475\", element=\"4C848728F6E2AEA138960F3E0C70BE41_element_301\")>,\n",
       " <selenium.webdriver.remote.webelement.WebElement (session=\"be6d7a41e73f222b7468f736a654a475\", element=\"4C848728F6E2AEA138960F3E0C70BE41_element_302\")>,\n",
       " <selenium.webdriver.remote.webelement.WebElement (session=\"be6d7a41e73f222b7468f736a654a475\", element=\"4C848728F6E2AEA138960F3E0C70BE41_element_303\")>,\n",
       " <selenium.webdriver.remote.webelement.WebElement (session=\"be6d7a41e73f222b7468f736a654a475\", element=\"4C848728F6E2AEA138960F3E0C70BE41_element_304\")>,\n",
       " <selenium.webdriver.remote.webelement.WebElement (session=\"be6d7a41e73f222b7468f736a654a475\", element=\"4C848728F6E2AEA138960F3E0C70BE41_element_305\")>,\n",
       " <selenium.webdriver.remote.webelement.WebElement (session=\"be6d7a41e73f222b7468f736a654a475\", element=\"4C848728F6E2AEA138960F3E0C70BE41_element_306\")>,\n",
       " <selenium.webdriver.remote.webelement.WebElement (session=\"be6d7a41e73f222b7468f736a654a475\", element=\"4C848728F6E2AEA138960F3E0C70BE41_element_307\")>,\n",
       " <selenium.webdriver.remote.webelement.WebElement (session=\"be6d7a41e73f222b7468f736a654a475\", element=\"4C848728F6E2AEA138960F3E0C70BE41_element_308\")>,\n",
       " <selenium.webdriver.remote.webelement.WebElement (session=\"be6d7a41e73f222b7468f736a654a475\", element=\"4C848728F6E2AEA138960F3E0C70BE41_element_309\")>,\n",
       " <selenium.webdriver.remote.webelement.WebElement (session=\"be6d7a41e73f222b7468f736a654a475\", element=\"4C848728F6E2AEA138960F3E0C70BE41_element_310\")>,\n",
       " <selenium.webdriver.remote.webelement.WebElement (session=\"be6d7a41e73f222b7468f736a654a475\", element=\"4C848728F6E2AEA138960F3E0C70BE41_element_311\")>,\n",
       " <selenium.webdriver.remote.webelement.WebElement (session=\"be6d7a41e73f222b7468f736a654a475\", element=\"4C848728F6E2AEA138960F3E0C70BE41_element_312\")>,\n",
       " <selenium.webdriver.remote.webelement.WebElement (session=\"be6d7a41e73f222b7468f736a654a475\", element=\"4C848728F6E2AEA138960F3E0C70BE41_element_313\")>,\n",
       " <selenium.webdriver.remote.webelement.WebElement (session=\"be6d7a41e73f222b7468f736a654a475\", element=\"4C848728F6E2AEA138960F3E0C70BE41_element_314\")>,\n",
       " <selenium.webdriver.remote.webelement.WebElement (session=\"be6d7a41e73f222b7468f736a654a475\", element=\"4C848728F6E2AEA138960F3E0C70BE41_element_315\")>,\n",
       " <selenium.webdriver.remote.webelement.WebElement (session=\"be6d7a41e73f222b7468f736a654a475\", element=\"4C848728F6E2AEA138960F3E0C70BE41_element_316\")>,\n",
       " <selenium.webdriver.remote.webelement.WebElement (session=\"be6d7a41e73f222b7468f736a654a475\", element=\"4C848728F6E2AEA138960F3E0C70BE41_element_317\")>,\n",
       " <selenium.webdriver.remote.webelement.WebElement (session=\"be6d7a41e73f222b7468f736a654a475\", element=\"4C848728F6E2AEA138960F3E0C70BE41_element_318\")>,\n",
       " <selenium.webdriver.remote.webelement.WebElement (session=\"be6d7a41e73f222b7468f736a654a475\", element=\"4C848728F6E2AEA138960F3E0C70BE41_element_319\")>,\n",
       " <selenium.webdriver.remote.webelement.WebElement (session=\"be6d7a41e73f222b7468f736a654a475\", element=\"4C848728F6E2AEA138960F3E0C70BE41_element_320\")>,\n",
       " <selenium.webdriver.remote.webelement.WebElement (session=\"be6d7a41e73f222b7468f736a654a475\", element=\"4C848728F6E2AEA138960F3E0C70BE41_element_321\")>,\n",
       " <selenium.webdriver.remote.webelement.WebElement (session=\"be6d7a41e73f222b7468f736a654a475\", element=\"4C848728F6E2AEA138960F3E0C70BE41_element_322\")>,\n",
       " <selenium.webdriver.remote.webelement.WebElement (session=\"be6d7a41e73f222b7468f736a654a475\", element=\"4C848728F6E2AEA138960F3E0C70BE41_element_323\")>,\n",
       " <selenium.webdriver.remote.webelement.WebElement (session=\"be6d7a41e73f222b7468f736a654a475\", element=\"4C848728F6E2AEA138960F3E0C70BE41_element_324\")>,\n",
       " <selenium.webdriver.remote.webelement.WebElement (session=\"be6d7a41e73f222b7468f736a654a475\", element=\"4C848728F6E2AEA138960F3E0C70BE41_element_325\")>,\n",
       " <selenium.webdriver.remote.webelement.WebElement (session=\"be6d7a41e73f222b7468f736a654a475\", element=\"4C848728F6E2AEA138960F3E0C70BE41_element_326\")>,\n",
       " <selenium.webdriver.remote.webelement.WebElement (session=\"be6d7a41e73f222b7468f736a654a475\", element=\"4C848728F6E2AEA138960F3E0C70BE41_element_327\")>,\n",
       " <selenium.webdriver.remote.webelement.WebElement (session=\"be6d7a41e73f222b7468f736a654a475\", element=\"4C848728F6E2AEA138960F3E0C70BE41_element_328\")>,\n",
       " <selenium.webdriver.remote.webelement.WebElement (session=\"be6d7a41e73f222b7468f736a654a475\", element=\"4C848728F6E2AEA138960F3E0C70BE41_element_329\")>,\n",
       " <selenium.webdriver.remote.webelement.WebElement (session=\"be6d7a41e73f222b7468f736a654a475\", element=\"4C848728F6E2AEA138960F3E0C70BE41_element_330\")>,\n",
       " <selenium.webdriver.remote.webelement.WebElement (session=\"be6d7a41e73f222b7468f736a654a475\", element=\"4C848728F6E2AEA138960F3E0C70BE41_element_331\")>,\n",
       " <selenium.webdriver.remote.webelement.WebElement (session=\"be6d7a41e73f222b7468f736a654a475\", element=\"4C848728F6E2AEA138960F3E0C70BE41_element_332\")>,\n",
       " <selenium.webdriver.remote.webelement.WebElement (session=\"be6d7a41e73f222b7468f736a654a475\", element=\"4C848728F6E2AEA138960F3E0C70BE41_element_333\")>,\n",
       " <selenium.webdriver.remote.webelement.WebElement (session=\"be6d7a41e73f222b7468f736a654a475\", element=\"4C848728F6E2AEA138960F3E0C70BE41_element_334\")>,\n",
       " <selenium.webdriver.remote.webelement.WebElement (session=\"be6d7a41e73f222b7468f736a654a475\", element=\"4C848728F6E2AEA138960F3E0C70BE41_element_335\")>,\n",
       " <selenium.webdriver.remote.webelement.WebElement (session=\"be6d7a41e73f222b7468f736a654a475\", element=\"4C848728F6E2AEA138960F3E0C70BE41_element_336\")>,\n",
       " <selenium.webdriver.remote.webelement.WebElement (session=\"be6d7a41e73f222b7468f736a654a475\", element=\"4C848728F6E2AEA138960F3E0C70BE41_element_337\")>,\n",
       " <selenium.webdriver.remote.webelement.WebElement (session=\"be6d7a41e73f222b7468f736a654a475\", element=\"4C848728F6E2AEA138960F3E0C70BE41_element_338\")>,\n",
       " <selenium.webdriver.remote.webelement.WebElement (session=\"be6d7a41e73f222b7468f736a654a475\", element=\"4C848728F6E2AEA138960F3E0C70BE41_element_339\")>,\n",
       " <selenium.webdriver.remote.webelement.WebElement (session=\"be6d7a41e73f222b7468f736a654a475\", element=\"4C848728F6E2AEA138960F3E0C70BE41_element_340\")>,\n",
       " <selenium.webdriver.remote.webelement.WebElement (session=\"be6d7a41e73f222b7468f736a654a475\", element=\"4C848728F6E2AEA138960F3E0C70BE41_element_341\")>,\n",
       " <selenium.webdriver.remote.webelement.WebElement (session=\"be6d7a41e73f222b7468f736a654a475\", element=\"4C848728F6E2AEA138960F3E0C70BE41_element_342\")>,\n",
       " <selenium.webdriver.remote.webelement.WebElement (session=\"be6d7a41e73f222b7468f736a654a475\", element=\"4C848728F6E2AEA138960F3E0C70BE41_element_343\")>,\n",
       " <selenium.webdriver.remote.webelement.WebElement (session=\"be6d7a41e73f222b7468f736a654a475\", element=\"4C848728F6E2AEA138960F3E0C70BE41_element_344\")>,\n",
       " <selenium.webdriver.remote.webelement.WebElement (session=\"be6d7a41e73f222b7468f736a654a475\", element=\"4C848728F6E2AEA138960F3E0C70BE41_element_345\")>,\n",
       " <selenium.webdriver.remote.webelement.WebElement (session=\"be6d7a41e73f222b7468f736a654a475\", element=\"4C848728F6E2AEA138960F3E0C70BE41_element_346\")>,\n",
       " <selenium.webdriver.remote.webelement.WebElement (session=\"be6d7a41e73f222b7468f736a654a475\", element=\"4C848728F6E2AEA138960F3E0C70BE41_element_347\")>,\n",
       " <selenium.webdriver.remote.webelement.WebElement (session=\"be6d7a41e73f222b7468f736a654a475\", element=\"4C848728F6E2AEA138960F3E0C70BE41_element_348\")>,\n",
       " <selenium.webdriver.remote.webelement.WebElement (session=\"be6d7a41e73f222b7468f736a654a475\", element=\"4C848728F6E2AEA138960F3E0C70BE41_element_349\")>,\n",
       " <selenium.webdriver.remote.webelement.WebElement (session=\"be6d7a41e73f222b7468f736a654a475\", element=\"4C848728F6E2AEA138960F3E0C70BE41_element_350\")>,\n",
       " <selenium.webdriver.remote.webelement.WebElement (session=\"be6d7a41e73f222b7468f736a654a475\", element=\"4C848728F6E2AEA138960F3E0C70BE41_element_351\")>,\n",
       " <selenium.webdriver.remote.webelement.WebElement (session=\"be6d7a41e73f222b7468f736a654a475\", element=\"4C848728F6E2AEA138960F3E0C70BE41_element_352\")>,\n",
       " <selenium.webdriver.remote.webelement.WebElement (session=\"be6d7a41e73f222b7468f736a654a475\", element=\"4C848728F6E2AEA138960F3E0C70BE41_element_353\")>,\n",
       " <selenium.webdriver.remote.webelement.WebElement (session=\"be6d7a41e73f222b7468f736a654a475\", element=\"4C848728F6E2AEA138960F3E0C70BE41_element_354\")>,\n",
       " <selenium.webdriver.remote.webelement.WebElement (session=\"be6d7a41e73f222b7468f736a654a475\", element=\"4C848728F6E2AEA138960F3E0C70BE41_element_355\")>,\n",
       " <selenium.webdriver.remote.webelement.WebElement (session=\"be6d7a41e73f222b7468f736a654a475\", element=\"4C848728F6E2AEA138960F3E0C70BE41_element_356\")>,\n",
       " <selenium.webdriver.remote.webelement.WebElement (session=\"be6d7a41e73f222b7468f736a654a475\", element=\"4C848728F6E2AEA138960F3E0C70BE41_element_357\")>,\n",
       " <selenium.webdriver.remote.webelement.WebElement (session=\"be6d7a41e73f222b7468f736a654a475\", element=\"4C848728F6E2AEA138960F3E0C70BE41_element_358\")>,\n",
       " <selenium.webdriver.remote.webelement.WebElement (session=\"be6d7a41e73f222b7468f736a654a475\", element=\"4C848728F6E2AEA138960F3E0C70BE41_element_359\")>,\n",
       " <selenium.webdriver.remote.webelement.WebElement (session=\"be6d7a41e73f222b7468f736a654a475\", element=\"4C848728F6E2AEA138960F3E0C70BE41_element_360\")>,\n",
       " <selenium.webdriver.remote.webelement.WebElement (session=\"be6d7a41e73f222b7468f736a654a475\", element=\"4C848728F6E2AEA138960F3E0C70BE41_element_361\")>,\n",
       " <selenium.webdriver.remote.webelement.WebElement (session=\"be6d7a41e73f222b7468f736a654a475\", element=\"4C848728F6E2AEA138960F3E0C70BE41_element_362\")>,\n",
       " <selenium.webdriver.remote.webelement.WebElement (session=\"be6d7a41e73f222b7468f736a654a475\", element=\"4C848728F6E2AEA138960F3E0C70BE41_element_363\")>,\n",
       " <selenium.webdriver.remote.webelement.WebElement (session=\"be6d7a41e73f222b7468f736a654a475\", element=\"4C848728F6E2AEA138960F3E0C70BE41_element_364\")>,\n",
       " <selenium.webdriver.remote.webelement.WebElement (session=\"be6d7a41e73f222b7468f736a654a475\", element=\"4C848728F6E2AEA138960F3E0C70BE41_element_365\")>,\n",
       " <selenium.webdriver.remote.webelement.WebElement (session=\"be6d7a41e73f222b7468f736a654a475\", element=\"4C848728F6E2AEA138960F3E0C70BE41_element_366\")>,\n",
       " <selenium.webdriver.remote.webelement.WebElement (session=\"be6d7a41e73f222b7468f736a654a475\", element=\"4C848728F6E2AEA138960F3E0C70BE41_element_367\")>,\n",
       " <selenium.webdriver.remote.webelement.WebElement (session=\"be6d7a41e73f222b7468f736a654a475\", element=\"4C848728F6E2AEA138960F3E0C70BE41_element_368\")>,\n",
       " <selenium.webdriver.remote.webelement.WebElement (session=\"be6d7a41e73f222b7468f736a654a475\", element=\"4C848728F6E2AEA138960F3E0C70BE41_element_369\")>,\n",
       " <selenium.webdriver.remote.webelement.WebElement (session=\"be6d7a41e73f222b7468f736a654a475\", element=\"4C848728F6E2AEA138960F3E0C70BE41_element_370\")>,\n",
       " <selenium.webdriver.remote.webelement.WebElement (session=\"be6d7a41e73f222b7468f736a654a475\", element=\"4C848728F6E2AEA138960F3E0C70BE41_element_371\")>,\n",
       " <selenium.webdriver.remote.webelement.WebElement (session=\"be6d7a41e73f222b7468f736a654a475\", element=\"4C848728F6E2AEA138960F3E0C70BE41_element_372\")>,\n",
       " <selenium.webdriver.remote.webelement.WebElement (session=\"be6d7a41e73f222b7468f736a654a475\", element=\"4C848728F6E2AEA138960F3E0C70BE41_element_373\")>,\n",
       " <selenium.webdriver.remote.webelement.WebElement (session=\"be6d7a41e73f222b7468f736a654a475\", element=\"4C848728F6E2AEA138960F3E0C70BE41_element_374\")>,\n",
       " <selenium.webdriver.remote.webelement.WebElement (session=\"be6d7a41e73f222b7468f736a654a475\", element=\"4C848728F6E2AEA138960F3E0C70BE41_element_375\")>,\n",
       " <selenium.webdriver.remote.webelement.WebElement (session=\"be6d7a41e73f222b7468f736a654a475\", element=\"4C848728F6E2AEA138960F3E0C70BE41_element_376\")>,\n",
       " <selenium.webdriver.remote.webelement.WebElement (session=\"be6d7a41e73f222b7468f736a654a475\", element=\"4C848728F6E2AEA138960F3E0C70BE41_element_377\")>,\n",
       " <selenium.webdriver.remote.webelement.WebElement (session=\"be6d7a41e73f222b7468f736a654a475\", element=\"4C848728F6E2AEA138960F3E0C70BE41_element_378\")>,\n",
       " <selenium.webdriver.remote.webelement.WebElement (session=\"be6d7a41e73f222b7468f736a654a475\", element=\"4C848728F6E2AEA138960F3E0C70BE41_element_379\")>,\n",
       " <selenium.webdriver.remote.webelement.WebElement (session=\"be6d7a41e73f222b7468f736a654a475\", element=\"4C848728F6E2AEA138960F3E0C70BE41_element_380\")>,\n",
       " <selenium.webdriver.remote.webelement.WebElement (session=\"be6d7a41e73f222b7468f736a654a475\", element=\"4C848728F6E2AEA138960F3E0C70BE41_element_381\")>,\n",
       " <selenium.webdriver.remote.webelement.WebElement (session=\"be6d7a41e73f222b7468f736a654a475\", element=\"4C848728F6E2AEA138960F3E0C70BE41_element_382\")>,\n",
       " <selenium.webdriver.remote.webelement.WebElement (session=\"be6d7a41e73f222b7468f736a654a475\", element=\"4C848728F6E2AEA138960F3E0C70BE41_element_383\")>,\n",
       " <selenium.webdriver.remote.webelement.WebElement (session=\"be6d7a41e73f222b7468f736a654a475\", element=\"4C848728F6E2AEA138960F3E0C70BE41_element_384\")>,\n",
       " <selenium.webdriver.remote.webelement.WebElement (session=\"be6d7a41e73f222b7468f736a654a475\", element=\"4C848728F6E2AEA138960F3E0C70BE41_element_385\")>,\n",
       " <selenium.webdriver.remote.webelement.WebElement (session=\"be6d7a41e73f222b7468f736a654a475\", element=\"4C848728F6E2AEA138960F3E0C70BE41_element_386\")>,\n",
       " <selenium.webdriver.remote.webelement.WebElement (session=\"be6d7a41e73f222b7468f736a654a475\", element=\"4C848728F6E2AEA138960F3E0C70BE41_element_387\")>,\n",
       " <selenium.webdriver.remote.webelement.WebElement (session=\"be6d7a41e73f222b7468f736a654a475\", element=\"4C848728F6E2AEA138960F3E0C70BE41_element_388\")>,\n",
       " <selenium.webdriver.remote.webelement.WebElement (session=\"be6d7a41e73f222b7468f736a654a475\", element=\"4C848728F6E2AEA138960F3E0C70BE41_element_389\")>,\n",
       " <selenium.webdriver.remote.webelement.WebElement (session=\"be6d7a41e73f222b7468f736a654a475\", element=\"4C848728F6E2AEA138960F3E0C70BE41_element_390\")>,\n",
       " <selenium.webdriver.remote.webelement.WebElement (session=\"be6d7a41e73f222b7468f736a654a475\", element=\"4C848728F6E2AEA138960F3E0C70BE41_element_391\")>,\n",
       " <selenium.webdriver.remote.webelement.WebElement (session=\"be6d7a41e73f222b7468f736a654a475\", element=\"4C848728F6E2AEA138960F3E0C70BE41_element_392\")>,\n",
       " <selenium.webdriver.remote.webelement.WebElement (session=\"be6d7a41e73f222b7468f736a654a475\", element=\"4C848728F6E2AEA138960F3E0C70BE41_element_393\")>,\n",
       " <selenium.webdriver.remote.webelement.WebElement (session=\"be6d7a41e73f222b7468f736a654a475\", element=\"4C848728F6E2AEA138960F3E0C70BE41_element_394\")>,\n",
       " <selenium.webdriver.remote.webelement.WebElement (session=\"be6d7a41e73f222b7468f736a654a475\", element=\"4C848728F6E2AEA138960F3E0C70BE41_element_395\")>,\n",
       " <selenium.webdriver.remote.webelement.WebElement (session=\"be6d7a41e73f222b7468f736a654a475\", element=\"4C848728F6E2AEA138960F3E0C70BE41_element_396\")>,\n",
       " <selenium.webdriver.remote.webelement.WebElement (session=\"be6d7a41e73f222b7468f736a654a475\", element=\"4C848728F6E2AEA138960F3E0C70BE41_element_397\")>,\n",
       " <selenium.webdriver.remote.webelement.WebElement (session=\"be6d7a41e73f222b7468f736a654a475\", element=\"4C848728F6E2AEA138960F3E0C70BE41_element_398\")>,\n",
       " <selenium.webdriver.remote.webelement.WebElement (session=\"be6d7a41e73f222b7468f736a654a475\", element=\"4C848728F6E2AEA138960F3E0C70BE41_element_399\")>,\n",
       " <selenium.webdriver.remote.webelement.WebElement (session=\"be6d7a41e73f222b7468f736a654a475\", element=\"4C848728F6E2AEA138960F3E0C70BE41_element_400\")>,\n",
       " <selenium.webdriver.remote.webelement.WebElement (session=\"be6d7a41e73f222b7468f736a654a475\", element=\"4C848728F6E2AEA138960F3E0C70BE41_element_401\")>,\n",
       " <selenium.webdriver.remote.webelement.WebElement (session=\"be6d7a41e73f222b7468f736a654a475\", element=\"4C848728F6E2AEA138960F3E0C70BE41_element_402\")>,\n",
       " <selenium.webdriver.remote.webelement.WebElement (session=\"be6d7a41e73f222b7468f736a654a475\", element=\"4C848728F6E2AEA138960F3E0C70BE41_element_403\")>,\n",
       " <selenium.webdriver.remote.webelement.WebElement (session=\"be6d7a41e73f222b7468f736a654a475\", element=\"4C848728F6E2AEA138960F3E0C70BE41_element_404\")>,\n",
       " <selenium.webdriver.remote.webelement.WebElement (session=\"be6d7a41e73f222b7468f736a654a475\", element=\"4C848728F6E2AEA138960F3E0C70BE41_element_405\")>,\n",
       " <selenium.webdriver.remote.webelement.WebElement (session=\"be6d7a41e73f222b7468f736a654a475\", element=\"4C848728F6E2AEA138960F3E0C70BE41_element_406\")>,\n",
       " <selenium.webdriver.remote.webelement.WebElement (session=\"be6d7a41e73f222b7468f736a654a475\", element=\"4C848728F6E2AEA138960F3E0C70BE41_element_407\")>,\n",
       " <selenium.webdriver.remote.webelement.WebElement (session=\"be6d7a41e73f222b7468f736a654a475\", element=\"4C848728F6E2AEA138960F3E0C70BE41_element_408\")>,\n",
       " <selenium.webdriver.remote.webelement.WebElement (session=\"be6d7a41e73f222b7468f736a654a475\", element=\"4C848728F6E2AEA138960F3E0C70BE41_element_409\")>,\n",
       " <selenium.webdriver.remote.webelement.WebElement (session=\"be6d7a41e73f222b7468f736a654a475\", element=\"4C848728F6E2AEA138960F3E0C70BE41_element_410\")>,\n",
       " <selenium.webdriver.remote.webelement.WebElement (session=\"be6d7a41e73f222b7468f736a654a475\", element=\"4C848728F6E2AEA138960F3E0C70BE41_element_411\")>,\n",
       " <selenium.webdriver.remote.webelement.WebElement (session=\"be6d7a41e73f222b7468f736a654a475\", element=\"4C848728F6E2AEA138960F3E0C70BE41_element_412\")>,\n",
       " <selenium.webdriver.remote.webelement.WebElement (session=\"be6d7a41e73f222b7468f736a654a475\", element=\"4C848728F6E2AEA138960F3E0C70BE41_element_413\")>,\n",
       " <selenium.webdriver.remote.webelement.WebElement (session=\"be6d7a41e73f222b7468f736a654a475\", element=\"4C848728F6E2AEA138960F3E0C70BE41_element_414\")>,\n",
       " <selenium.webdriver.remote.webelement.WebElement (session=\"be6d7a41e73f222b7468f736a654a475\", element=\"4C848728F6E2AEA138960F3E0C70BE41_element_415\")>,\n",
       " <selenium.webdriver.remote.webelement.WebElement (session=\"be6d7a41e73f222b7468f736a654a475\", element=\"4C848728F6E2AEA138960F3E0C70BE41_element_416\")>,\n",
       " <selenium.webdriver.remote.webelement.WebElement (session=\"be6d7a41e73f222b7468f736a654a475\", element=\"4C848728F6E2AEA138960F3E0C70BE41_element_417\")>,\n",
       " <selenium.webdriver.remote.webelement.WebElement (session=\"be6d7a41e73f222b7468f736a654a475\", element=\"4C848728F6E2AEA138960F3E0C70BE41_element_418\")>,\n",
       " <selenium.webdriver.remote.webelement.WebElement (session=\"be6d7a41e73f222b7468f736a654a475\", element=\"4C848728F6E2AEA138960F3E0C70BE41_element_419\")>,\n",
       " <selenium.webdriver.remote.webelement.WebElement (session=\"be6d7a41e73f222b7468f736a654a475\", element=\"4C848728F6E2AEA138960F3E0C70BE41_element_420\")>,\n",
       " <selenium.webdriver.remote.webelement.WebElement (session=\"be6d7a41e73f222b7468f736a654a475\", element=\"4C848728F6E2AEA138960F3E0C70BE41_element_421\")>,\n",
       " <selenium.webdriver.remote.webelement.WebElement (session=\"be6d7a41e73f222b7468f736a654a475\", element=\"4C848728F6E2AEA138960F3E0C70BE41_element_422\")>,\n",
       " <selenium.webdriver.remote.webelement.WebElement (session=\"be6d7a41e73f222b7468f736a654a475\", element=\"4C848728F6E2AEA138960F3E0C70BE41_element_423\")>,\n",
       " <selenium.webdriver.remote.webelement.WebElement (session=\"be6d7a41e73f222b7468f736a654a475\", element=\"4C848728F6E2AEA138960F3E0C70BE41_element_424\")>]"
      ]
     },
     "execution_count": 144,
     "metadata": {},
     "output_type": "execute_result"
    }
   ],
   "source": [
    "filas = cuerpo.find_elements(By.TAG_NAME, 'tr')\n",
    "\n",
    "filas"
   ]
  },
  {
   "cell_type": "code",
   "execution_count": 145,
   "metadata": {},
   "outputs": [
    {
     "ename": "NoSuchWindowException",
     "evalue": "Message: no such window: target window already closed\nfrom unknown error: web view not found\n  (Session info: chrome=118.0.5993.118)\nStacktrace:\n\tGetHandleVerifier [0x00007FF7682D8EF2+54786]\n\t(No symbol) [0x00007FF768245612]\n\t(No symbol) [0x00007FF7680FA64B]\n\t(No symbol) [0x00007FF7680DA9F5]\n\t(No symbol) [0x00007FF768160887]\n\t(No symbol) [0x00007FF7681743CF]\n\t(No symbol) [0x00007FF76815BC43]\n\t(No symbol) [0x00007FF768130941]\n\t(No symbol) [0x00007FF768131B84]\n\tGetHandleVerifier [0x00007FF768627F52+3524194]\n\tGetHandleVerifier [0x00007FF76867D800+3874576]\n\tGetHandleVerifier [0x00007FF768675D7F+3843215]\n\tGetHandleVerifier [0x00007FF768375086+694166]\n\t(No symbol) [0x00007FF768250A88]\n\t(No symbol) [0x00007FF76824CA94]\n\t(No symbol) [0x00007FF76824CBC2]\n\t(No symbol) [0x00007FF76823CC83]\n\tBaseThreadInitThunk [0x00007FFF5819257D+29]\n\tRtlUserThreadStart [0x00007FFF583AAA58+40]\n",
     "output_type": "error",
     "traceback": [
      "\u001b[1;31m---------------------------------------------------------------------------\u001b[0m",
      "\u001b[1;31mNoSuchWindowException\u001b[0m                     Traceback (most recent call last)",
      "\u001b[1;32mc:\\Users\\luiso\\IRONHACK\\w4-project_ETL\\le_grande_boucle.ipynb Cell 16\u001b[0m line \u001b[0;36m3\n\u001b[0;32m      <a href='vscode-notebook-cell:/c%3A/Users/luiso/IRONHACK/w4-project_ETL/le_grande_boucle.ipynb#X25sZmlsZQ%3D%3D?line=0'>1</a>\u001b[0m \u001b[39mfor\u001b[39;00m etapa \u001b[39min\u001b[39;00m \u001b[39mrange\u001b[39m(\u001b[39m1\u001b[39m, \u001b[39m25\u001b[39m):\n\u001b[0;32m      <a href='vscode-notebook-cell:/c%3A/Users/luiso/IRONHACK/w4-project_ETL/le_grande_boucle.ipynb#X25sZmlsZQ%3D%3D?line=1'>2</a>\u001b[0m     url \u001b[39m=\u001b[39m \u001b[39mf\u001b[39m\u001b[39m\"\u001b[39m\u001b[39m{\u001b[39;00mbase_url\u001b[39m}\u001b[39;00m\u001b[39m{\u001b[39;00metapa\u001b[39m}\u001b[39;00m\u001b[39m\"\u001b[39m\n\u001b[1;32m----> <a href='vscode-notebook-cell:/c%3A/Users/luiso/IRONHACK/w4-project_ETL/le_grande_boucle.ipynb#X25sZmlsZQ%3D%3D?line=2'>3</a>\u001b[0m     driver\u001b[39m.\u001b[39;49mget(url)\n",
      "File \u001b[1;32mc:\\Users\\luiso\\anaconda3\\lib\\site-packages\\selenium\\webdriver\\remote\\webdriver.py:353\u001b[0m, in \u001b[0;36mWebDriver.get\u001b[1;34m(self, url)\u001b[0m\n\u001b[0;32m    351\u001b[0m \u001b[39mdef\u001b[39;00m \u001b[39mget\u001b[39m(\u001b[39mself\u001b[39m, url: \u001b[39mstr\u001b[39m) \u001b[39m-\u001b[39m\u001b[39m>\u001b[39m \u001b[39mNone\u001b[39;00m:\n\u001b[0;32m    352\u001b[0m     \u001b[39m\"\"\"Loads a web page in the current browser session.\"\"\"\u001b[39;00m\n\u001b[1;32m--> 353\u001b[0m     \u001b[39mself\u001b[39;49m\u001b[39m.\u001b[39;49mexecute(Command\u001b[39m.\u001b[39;49mGET, {\u001b[39m\"\u001b[39;49m\u001b[39murl\u001b[39;49m\u001b[39m\"\u001b[39;49m: url})\n",
      "File \u001b[1;32mc:\\Users\\luiso\\anaconda3\\lib\\site-packages\\selenium\\webdriver\\remote\\webdriver.py:344\u001b[0m, in \u001b[0;36mWebDriver.execute\u001b[1;34m(self, driver_command, params)\u001b[0m\n\u001b[0;32m    342\u001b[0m response \u001b[39m=\u001b[39m \u001b[39mself\u001b[39m\u001b[39m.\u001b[39mcommand_executor\u001b[39m.\u001b[39mexecute(driver_command, params)\n\u001b[0;32m    343\u001b[0m \u001b[39mif\u001b[39;00m response:\n\u001b[1;32m--> 344\u001b[0m     \u001b[39mself\u001b[39;49m\u001b[39m.\u001b[39;49merror_handler\u001b[39m.\u001b[39;49mcheck_response(response)\n\u001b[0;32m    345\u001b[0m     response[\u001b[39m\"\u001b[39m\u001b[39mvalue\u001b[39m\u001b[39m\"\u001b[39m] \u001b[39m=\u001b[39m \u001b[39mself\u001b[39m\u001b[39m.\u001b[39m_unwrap_value(response\u001b[39m.\u001b[39mget(\u001b[39m\"\u001b[39m\u001b[39mvalue\u001b[39m\u001b[39m\"\u001b[39m, \u001b[39mNone\u001b[39;00m))\n\u001b[0;32m    346\u001b[0m     \u001b[39mreturn\u001b[39;00m response\n",
      "File \u001b[1;32mc:\\Users\\luiso\\anaconda3\\lib\\site-packages\\selenium\\webdriver\\remote\\errorhandler.py:229\u001b[0m, in \u001b[0;36mErrorHandler.check_response\u001b[1;34m(self, response)\u001b[0m\n\u001b[0;32m    227\u001b[0m         alert_text \u001b[39m=\u001b[39m value[\u001b[39m\"\u001b[39m\u001b[39malert\u001b[39m\u001b[39m\"\u001b[39m]\u001b[39m.\u001b[39mget(\u001b[39m\"\u001b[39m\u001b[39mtext\u001b[39m\u001b[39m\"\u001b[39m)\n\u001b[0;32m    228\u001b[0m     \u001b[39mraise\u001b[39;00m exception_class(message, screen, stacktrace, alert_text)  \u001b[39m# type: ignore[call-arg]  # mypy is not smart enough here\u001b[39;00m\n\u001b[1;32m--> 229\u001b[0m \u001b[39mraise\u001b[39;00m exception_class(message, screen, stacktrace)\n",
      "\u001b[1;31mNoSuchWindowException\u001b[0m: Message: no such window: target window already closed\nfrom unknown error: web view not found\n  (Session info: chrome=118.0.5993.118)\nStacktrace:\n\tGetHandleVerifier [0x00007FF7682D8EF2+54786]\n\t(No symbol) [0x00007FF768245612]\n\t(No symbol) [0x00007FF7680FA64B]\n\t(No symbol) [0x00007FF7680DA9F5]\n\t(No symbol) [0x00007FF768160887]\n\t(No symbol) [0x00007FF7681743CF]\n\t(No symbol) [0x00007FF76815BC43]\n\t(No symbol) [0x00007FF768130941]\n\t(No symbol) [0x00007FF768131B84]\n\tGetHandleVerifier [0x00007FF768627F52+3524194]\n\tGetHandleVerifier [0x00007FF76867D800+3874576]\n\tGetHandleVerifier [0x00007FF768675D7F+3843215]\n\tGetHandleVerifier [0x00007FF768375086+694166]\n\t(No symbol) [0x00007FF768250A88]\n\t(No symbol) [0x00007FF76824CA94]\n\t(No symbol) [0x00007FF76824CBC2]\n\t(No symbol) [0x00007FF76823CC83]\n\tBaseThreadInitThunk [0x00007FFF5819257D+29]\n\tRtlUserThreadStart [0x00007FFF583AAA58+40]\n"
     ]
    }
   ],
   "source": [
    "for etapa in range(1, 25):\n",
    "    url = f\"{base_url}{etapa}\"\n",
    "    driver.get(url)\n"
   ]
  },
  {
   "cell_type": "code",
   "execution_count": 199,
   "metadata": {},
   "outputs": [],
   "source": []
  },
  {
   "cell_type": "code",
   "execution_count": 200,
   "metadata": {},
   "outputs": [
    {
     "ename": "AttributeError",
     "evalue": "'list' object has no attribute 'text'",
     "output_type": "error",
     "traceback": [
      "\u001b[1;31m---------------------------------------------------------------------------\u001b[0m",
      "\u001b[1;31mAttributeError\u001b[0m                            Traceback (most recent call last)",
      "\u001b[1;32mc:\\Users\\luiso\\IRONHACK\\w4-project_ETL\\le_grande_boucle.ipynb Cell 20\u001b[0m line \u001b[0;36m3\n\u001b[0;32m      <a href='vscode-notebook-cell:/c%3A/Users/luiso/IRONHACK/w4-project_ETL/le_grande_boucle.ipynb#W4sZmlsZQ%3D%3D?line=0'>1</a>\u001b[0m \u001b[39m# sacar el texto de posiciones\u001b[39;00m\n\u001b[1;32m----> <a href='vscode-notebook-cell:/c%3A/Users/luiso/IRONHACK/w4-project_ETL/le_grande_boucle.ipynb#W4sZmlsZQ%3D%3D?line=2'>3</a>\u001b[0m posiciones\u001b[39m.\u001b[39;49mtext\n",
      "\u001b[1;31mAttributeError\u001b[0m: 'list' object has no attribute 'text'"
     ]
    }
   ],
   "source": [
    "# sacar el texto de posiciones\n",
    "\n",
    "posiciones.text\n",
    "\n"
   ]
  },
  {
   "cell_type": "code",
   "execution_count": null,
   "metadata": {},
   "outputs": [],
   "source": []
  },
  {
   "cell_type": "code",
   "execution_count": null,
   "metadata": {},
   "outputs": [
    {
     "name": "stdout",
     "output_type": "stream",
     "text": [
      "<bound method Rider.name of Rider(url='https://www.procyclingstats.com/rider/tadej-pogacar')>\n"
     ]
    }
   ],
   "source": [
    "rider = Rider(\"rider/tadej-pogacar\")\n",
    "\n",
    "print(rider.name)"
   ]
  },
  {
   "cell_type": "code",
   "execution_count": null,
   "metadata": {},
   "outputs": [
    {
     "data": {
      "text/plain": [
       "'1998-9-21'"
      ]
     },
     "execution_count": 15,
     "metadata": {},
     "output_type": "execute_result"
    }
   ],
   "source": [
    "rider.birthdate()\n",
    "\n"
   ]
  }
 ],
 "metadata": {
  "kernelspec": {
   "display_name": "base",
   "language": "python",
   "name": "python3"
  },
  "language_info": {
   "codemirror_mode": {
    "name": "ipython",
    "version": 3
   },
   "file_extension": ".py",
   "mimetype": "text/x-python",
   "name": "python",
   "nbconvert_exporter": "python",
   "pygments_lexer": "ipython3",
   "version": "3.10.9"
  }
 },
 "nbformat": 4,
 "nbformat_minor": 2
}
